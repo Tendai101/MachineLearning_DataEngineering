{
 "cells": [
  {
   "cell_type": "markdown",
   "metadata": {},
   "source": [
    "### Your details"
   ]
  },
  {
   "cell_type": "markdown",
   "metadata": {},
   "source": [
    "Your Name: Tendai Chaka"
   ]
  },
  {
   "cell_type": "markdown",
   "metadata": {},
   "source": [
    "Your ID number: 20041829"
   ]
  },
  {
   "cell_type": "markdown",
   "metadata": {},
   "source": [
    "# Task 1"
   ]
  },
  {
   "cell_type": "markdown",
   "metadata": {},
   "source": [
    "## Approach\n",
    "\n",
    "I tried developing a straightforward and effective implementation for this task without external libraries. The functions are both intuitive and simple to learn because they are reduced to multiplication and fundamental arithmetic. Simple checks are made to make sure that the input sizes are valid, error warnings are printed, and returns are made when needed. This method does not have needless complexity and guarantees robustness while preserving an understandable and simple design. In order to show that the code functions as intended, I have also included examples."
   ]
  },
  {
   "cell_type": "markdown",
   "metadata": {},
   "source": [
    "## Manual Calculations\n",
    "\n",
    "Scalar multiplication - (7, 8, 9) we multiply all values of the vector by 2\n",
    "The answer would be (14,16, 18)\n",
    "\n",
    "Addition and Subtraction of vectors - vect1 = [9, 8, 9]\n",
    "vect2 = [4, 4, 2]\n",
    "\n",
    "add_ans = [9+4, 8+4, 9+2] = [13, 12, 11]\n",
    "sub_ans = [9-4, 8-4, 9-2] = [5, 4, 7]\n",
    "\n",
    "Dot product - [2, 5, 9] and [3, 4, 8] \n",
    "dot_ans =  (2*3)+(5*4)+(9*8) = 98\n",
    "\n",
    "Cross product - [2, 5, 9] and [3, 4, 8] \n",
    "cross_ans =   [((5*8)-(9*4)) -((2*8)-(9*3)) +((5*8)-(9*4))] = [4, 11, -7]"
   ]
  },
  {
   "cell_type": "markdown",
   "metadata": {},
   "source": [
    "## Code"
   ]
  },
  {
   "cell_type": "code",
   "execution_count": 20,
   "metadata": {},
   "outputs": [
    {
     "name": "stdout",
     "output_type": "stream",
     "text": [
      "[14, 16, 18]\n"
     ]
    }
   ],
   "source": [
    "#Scalar Multiplication\n",
    "def scalar_multi (scalar, vect):\n",
    "  returnlist = [] #empty list\n",
    "\n",
    "  for c in vect:\n",
    "     returnlist.append(c * scalar)\n",
    "\n",
    "  return returnlist\n",
    "\n",
    "#example\n",
    "vect = [7, 8, 9]\n",
    "scalar = 2\n",
    "\n",
    "Answer = scalar_multi(scalar, vect)\n",
    "print(Answer)"
   ]
  },
  {
   "cell_type": "code",
   "execution_count": 21,
   "metadata": {},
   "outputs": [
    {
     "name": "stdout",
     "output_type": "stream",
     "text": [
      "([13, 12, 11], [5, 4, 7])\n",
      "error vectors not same size\n"
     ]
    }
   ],
   "source": [
    "#Addition and Subtraction of 2 vectors\n",
    "def add_sub (vect1, vect2):\n",
    "    addlist = []\n",
    "    sublist = []\n",
    "    #check vector sizes\n",
    "    if len(vect1) != len(vect2):\n",
    "      return 'error vectors not same size'\n",
    "    for i in range(0,len(vect1)):\n",
    "      addlist.append(vect1[i] + vect2[i])\n",
    "      sublist.append(vect1[i] - vect2[i])\n",
    "\n",
    "    return addlist, sublist\n",
    "\n",
    "#Example\n",
    "vect1 = [9, 8, 9]\n",
    "vect2 = [4, 4, 2]\n",
    "#Different size vectors\n",
    "vect3 = [9, 8, 9]\n",
    "vect4 = [4, 4, 2, 8]\n",
    "\n",
    "vect_answer = add_sub(vect1, vect2)\n",
    "vect_answer2 = add_sub(vect3, vect4)\n",
    "\n",
    "print(vect_answer)\n",
    "print(vect_answer2)"
   ]
  },
  {
   "cell_type": "code",
   "execution_count": 22,
   "metadata": {},
   "outputs": [
    {
     "name": "stdout",
     "output_type": "stream",
     "text": [
      "98\n",
      "Error, vectors of different size\n"
     ]
    }
   ],
   "source": [
    "#dot product of vectors\n",
    "def dot_product(vectdot1, vectdot2):\n",
    "    # Check if the vectors have the same size\n",
    "    if len(vectdot1) != len(vectdot2):\n",
    "        return \"Error, vectors of different size\"\n",
    "    else:\n",
    "    # Calculate the dot product\n",
    "     result = sum(vectdot1[i] * vectdot2[i] for i in range(len(vectdot1)))\n",
    "    return result\n",
    "\n",
    "# Example\n",
    "vectdot1 = [2, 5, 9]\n",
    "vectdot2 = [3, 4, 8]\n",
    "\n",
    "vectdot3 = [2, 5, 9]\n",
    "vectdot4 = [3, 4, 8, 9]\n",
    "#Different sizes\n",
    "dot_result = dot_product(vectdot1, vectdot2)\n",
    "dot_result2 = dot_product(vectdot3, vectdot4)\n",
    "\n",
    "print(dot_result)\n",
    "print(dot_result2)"
   ]
  },
  {
   "cell_type": "code",
   "execution_count": 23,
   "metadata": {},
   "outputs": [
    {
     "name": "stdout",
     "output_type": "stream",
     "text": [
      "[4, 11, -7]\n",
      "Error, vectors of different size\n"
     ]
    }
   ],
   "source": [
    "#cross product\n",
    "def cross_product(vectcross1, vectcross2):\n",
    "    # Check if the vectors have the same size\n",
    "    resultcross = []\n",
    "    if len(vectcross1) != len(vectcross2):\n",
    "        return \"Error, vectors of different size\"\n",
    "    \n",
    "    else:\n",
    "    #using the formular i - j + K to calculate the cross product\n",
    "     resultcross = [\n",
    "        vectcross1[1] * vectcross2[2] - vectcross1[2] * vectcross2[1],\n",
    "       -(vectcross1[0] * vectcross2[2] - vectcross1[2] * vectcross2[0]),\n",
    "        vectcross1[0] * vectcross2[1] - vectcross1[1] * vectcross2[0]\n",
    "    ]\n",
    "    return resultcross\n",
    "    \n",
    "\n",
    "# Example\n",
    "vectcross1 = [2, 5, 9]\n",
    "vectcross2 = [3, 4, 8]\n",
    "\n",
    "vectcross3 = [2, 5, 9]\n",
    "vectcross4 = [3, 4, 8, 6]\n",
    "\n",
    "cross_res = cross_product(vectcross1, vectcross2)\n",
    "cross_res2 = cross_product(vectcross3, vectcross4)\n",
    "print(cross_res)\n",
    "print(cross_res2)"
   ]
  },
  {
   "cell_type": "markdown",
   "metadata": {},
   "source": [
    "## Matrix Operations"
   ]
  },
  {
   "cell_type": "markdown",
   "metadata": {},
   "source": [
    "## Manual Calculations\n",
    "\n",
    "Size of a matrix - Count number of rows and columns\n",
    "\n",
    "**Addition and Subtraction**\n",
    " matrix1 = [\n",
    "    [1, 2, 3],\n",
    "    [4, 5, 6],\n",
    "]\n",
    "\n",
    "matrix2 = [\n",
    "    [7, 8, 9],\n",
    "    [10, 11, 12],\n",
    "]\n",
    "\n",
    "sum = [[(1+7), (2+8), (3+10)] [(4+10), (5+11), (6+12)]] = [[8, 10, 12], [14, 16, 18]]\n",
    "sub = [[(1-7), (2-8), (3-10)] [(4-10), (5-11), (6-12)]] = [[-6, -6, -6], [-6, -6, -6]]\n",
    "\n",
    "**Vector Multiplication**\n",
    "matrixvect = [\n",
    "    [1, 2, 3],\n",
    "    [4, 5, 6],\n",
    "    [6, 7, 12],\n",
    "]\n",
    "\n",
    "vectormulti = [3, 6, 8]\n",
    "ans = [(3*1 + 6*2 + 3*8), (3*4 + 6*5 +8*6), (3*6 + 6*7 + 8*12)] = [39, 90, 156]\n",
    "\n",
    "**Matrix Multiplication**\n",
    "multimatrix1 = [\n",
    "    [8, 6],\n",
    "    [5, 4],\n",
    "]\n",
    "\n",
    "multimatrix2 = [\n",
    "    [1, 2],\n",
    "    [3, 4]\n",
    "]\n",
    "\n",
    "product = [(8*1 + 6*3), (8*2 + 6*4), (5*1 + 4*3), (5*2 + 4*4)] = [[26, 40], [17, 26]]\n",
    "\n",
    "**Determinant**\n",
    "matrixdet = [\n",
    "    [5, 2],\n",
    "    [3, 8],\n",
    "    \n",
    "]\n",
    "ans = [(5*8)-(2*3)] = 34\n",
    "\n"
   ]
  },
  {
   "cell_type": "code",
   "execution_count": 24,
   "metadata": {},
   "outputs": [
    {
     "name": "stdout",
     "output_type": "stream",
     "text": [
      "(4, 4)\n"
     ]
    }
   ],
   "source": [
    "#Calculate and return the size of a matrix\n",
    "def matrix_size(matrix):\n",
    "    \n",
    "    row_num = len(matrix) #calculate the number of rows\n",
    "\n",
    "    column_num = len(matrix[0]) #calculate the number of columns \n",
    "\n",
    "    return row_num, column_num\n",
    "\n",
    "#Example\n",
    "matrix = [\n",
    "    [3, 5, 3, 6],\n",
    "    [1, 5, 6, 4],\n",
    "    [7, 4, 6, 7],\n",
    "    [5, 6, 2, 3]\n",
    "]\n",
    "\n",
    "size_of_matrix = matrix_size(matrix)\n",
    "\n",
    "print(size_of_matrix)"
   ]
  },
  {
   "cell_type": "code",
   "execution_count": 25,
   "metadata": {},
   "outputs": [
    {
     "name": "stdout",
     "output_type": "stream",
     "text": [
      "([[8, 10, 12], [14, 16, 18]], [[-6, -6, -6], [-6, -6, -6]])\n",
      "Error, matrix of different size\n"
     ]
    }
   ],
   "source": [
    "#Sum/Sub matrixs of same size\n",
    "def Sum_and_Sub(matrix1, matrix2):\n",
    "    #create empty matrix to store results\n",
    "    sumResult = [[0 for x in range(len(matrix1[0]))] for x in range(len(matrix1))]\n",
    "    subResult = [[0 for x in range(len(matrix1[0]))] for x in range(len(matrix1))]\n",
    "     # Check if the matrix have the same size\n",
    "    if matrix_size(matrix1) != matrix_size(matrix2):\n",
    "        return \"Error, matrix of different size\"\n",
    "    \n",
    "    else:\n",
    "        for i in range(len(matrix1)):\n",
    "            for j in range(len(matrix1[0])):\n",
    "                sumResult[i][j] = matrix1[i][j] + matrix2[i][j]\n",
    "                subResult[i][j] = matrix1[i][j] - matrix2[i][j]\n",
    "\n",
    "    return sumResult, subResult\n",
    "\n",
    "#Example\n",
    "matrix1 = [\n",
    "    [1, 2, 3],\n",
    "    [4, 5, 6],\n",
    "]\n",
    "\n",
    "matrix2 = [\n",
    "    [7, 8, 9],\n",
    "    [10, 11, 12],\n",
    "]\n",
    "#Different Sizes\n",
    "matrix3 = [\n",
    "    [1, 2, 3],\n",
    "    [4, 5, 6],\n",
    "]\n",
    "\n",
    "matrix4 = [\n",
    "    [7, 8, 9, 3],\n",
    "    [10, 11, 12, 7],\n",
    "]\n",
    "\n",
    "Sum_and_SubResult = Sum_and_Sub(matrix1, matrix2)\n",
    "Sum_and_SubResult2 = Sum_and_Sub(matrix3, matrix4)\n",
    "\n",
    "print(Sum_and_SubResult)\n",
    "print(Sum_and_SubResult2)"
   ]
  },
  {
   "cell_type": "code",
   "execution_count": 26,
   "metadata": {},
   "outputs": [
    {
     "name": "stdout",
     "output_type": "stream",
     "text": [
      "[39, 90, 156]\n",
      "error, matrix of different size\n"
     ]
    }
   ],
   "source": [
    "#Multiplying a matrix with a vector of suitable size\n",
    "def vector_multiply(matrixvect, vectormulti):\n",
    "    \n",
    "    #make an empty result list the size of the vector\n",
    "    matrixproduct = [0] * len(vectormulti)\n",
    "    \n",
    "    # Check if the number of rows are equal\n",
    "    if len(matrixvect) != len(vectormulti):\n",
    "        return \"error, matrix of different size\"\n",
    "    \n",
    "    else:\n",
    "        for i in range(len(matrixvect)):\n",
    "            for j in range(len(vectormulti)):\n",
    "                matrixproduct[i] += vectormulti[j] * matrixvect[i][j]\n",
    "                \n",
    "\n",
    "    return matrixproduct\n",
    "\n",
    "#Example\n",
    "matrixvect = [\n",
    "    [1, 2, 3],\n",
    "    [4, 5, 6],\n",
    "    [6, 7, 12],\n",
    "]\n",
    "\n",
    "vectormulti = [3, 6, 8]\n",
    "#Different length vector\n",
    "vectormulti2 = [3, 6, 8, 3]\n",
    "\n",
    "matrix_multi_vect = vector_multiply(matrixvect, vectormulti)\n",
    "matrix_multi_vect2 = vector_multiply(matrixvect, vectormulti2)\n",
    "print(matrix_multi_vect)\n",
    "print(matrix_multi_vect2)"
   ]
  },
  {
   "cell_type": "code",
   "execution_count": 27,
   "metadata": {},
   "outputs": [
    {
     "name": "stdout",
     "output_type": "stream",
     "text": [
      "[[26, 40], [17, 26]]\n",
      "Abort, matrix of different size\n"
     ]
    }
   ],
   "source": [
    "#Multiply matrixs of same size\n",
    "def multiply_2_matrix(multimatrix1, multimatrix2):\n",
    "    multimatrix_result = [[0 for x in range(len(multimatrix2[0]))] for y in range(len(multimatrix1))]\n",
    "    \n",
    "    # Check if the matrix have the same size\n",
    "    if matrix_size(multimatrix1) != matrix_size(multimatrix2):\n",
    "        return \"Abort, matrix of different size\"\n",
    "    \n",
    "    else:\n",
    "        for i in range(len(multimatrix1)):\n",
    "            for j in range(len(multimatrix2[0])):\n",
    "                for k in range(len(multimatrix2)):\n",
    "                 multimatrix_result [i][j] += multimatrix1[i][k] * multimatrix2[k][j]\n",
    "                \n",
    "\n",
    "    return multimatrix_result\n",
    "\n",
    "#Example\n",
    "multimatrix1 = [\n",
    "    [8, 6],\n",
    "    [5, 4],\n",
    "]\n",
    "\n",
    "multimatrix2 = [\n",
    "    [1, 2],\n",
    "    [3, 4]\n",
    "]\n",
    "#Different Size\n",
    "multimatrix3 = [\n",
    "    [1, 2, 3],\n",
    "    [3, 4, 9]\n",
    "]\n",
    "\n",
    "matrix_multi_Result = multiply_2_matrix(multimatrix1, multimatrix2)\n",
    "matrix_multi_Result2 = multiply_2_matrix(multimatrix1, multimatrix3)\n",
    "print(matrix_multi_Result)\n",
    "print(matrix_multi_Result2)"
   ]
  },
  {
   "cell_type": "code",
   "execution_count": 28,
   "metadata": {},
   "outputs": [
    {
     "name": "stdout",
     "output_type": "stream",
     "text": [
      "34\n",
      "Abort, matrix is not a 2x2 matrix.\n"
     ]
    }
   ],
   "source": [
    "#Determinant of a Matrix\n",
    "def determinant(matrixdet):\n",
    "    # Check if the matrix is 2x2 using my previous function\n",
    "    if matrix_size(matrixdet) != (2,2):\n",
    "        return \"Abort, matrix is not a 2x2 matrix.\"\n",
    "    else:\n",
    "    # Calculate the determinant\n",
    "     determinant_ans = matrixdet[0][0] * matrixdet[1][1] - matrixdet[0][1] * matrixdet[1][0]\n",
    "\n",
    "    return determinant_ans\n",
    "\n",
    "# Example\n",
    "matrixdet = [\n",
    "    [5, 2],\n",
    "    [3, 8],\n",
    "    \n",
    "]\n",
    "#Matrix not 2x2\n",
    "matrixdet2 = [\n",
    "    [5, 2, 8],\n",
    "    [3, 8, 4],\n",
    "    \n",
    "]\n",
    "\n",
    "determinant_result = determinant(matrixdet)\n",
    "determinant_result2 = determinant(matrixdet2)\n",
    "print(determinant_result)  \n",
    "print(determinant_result2)"
   ]
  },
  {
   "cell_type": "code",
   "execution_count": 29,
   "metadata": {},
   "outputs": [
    {
     "name": "stdout",
     "output_type": "stream",
     "text": [
      "[[2.0, -3.0], [-2.5, 4.0]]\n",
      "Abort, matrix is not a 2x2 matrix.\n"
     ]
    }
   ],
   "source": [
    "def inverse(matrixinv):\n",
    "    # Check if the matrix is 2x2 using my previous function\n",
    "    if matrix_size(matrixinv) != (2,2):\n",
    "        return \"Abort, matrix is not a 2x2 matrix.\"\n",
    "\n",
    "    # Calculate the inverse using determinant function\n",
    "    else:\n",
    "     inverse_formular = [\n",
    "         [matrixinv[1][1] / determinant(matrixinv), -matrixinv[0][1] / determinant(matrixinv)],\n",
    "         [-matrixinv[1][0] / determinant(matrixinv), matrixinv[0][0] / determinant(matrixinv)],\n",
    "     ]\n",
    "    \n",
    "\n",
    "    return inverse_formular\n",
    "\n",
    "# Example\n",
    "matrixinv = [\n",
    "    [8, 6],\n",
    "    [5, 4],\n",
    "    \n",
    "]\n",
    "#Check if 2x2\n",
    "matrixinv2 = [\n",
    "    [8, 6, 3],\n",
    "    [5, 4, 2],\n",
    "    \n",
    "]\n",
    "\n",
    "inverse_result = inverse(matrixinv)\n",
    "inverse_result2 = inverse(matrixinv2)\n",
    "\n",
    "print(inverse_result)\n",
    "print(inverse_result2) "
   ]
  }
 ],
 "metadata": {
  "kernelspec": {
   "display_name": "Python 3 (ipykernel)",
   "language": "python",
   "name": "python3"
  },
  "language_info": {
   "codemirror_mode": {
    "name": "ipython",
    "version": 3
   },
   "file_extension": ".py",
   "mimetype": "text/x-python",
   "name": "python",
   "nbconvert_exporter": "python",
   "pygments_lexer": "ipython3",
   "version": "3.11.5"
  }
 },
 "nbformat": 4,
 "nbformat_minor": 4
}
