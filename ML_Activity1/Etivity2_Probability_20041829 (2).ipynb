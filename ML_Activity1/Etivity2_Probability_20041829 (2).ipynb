{
 "cells": [
  {
   "cell_type": "markdown",
   "metadata": {},
   "source": [
    "### Student Details"
   ]
  },
  {
   "cell_type": "markdown",
   "metadata": {},
   "source": [
    "Student Name: Tendai Chaka"
   ]
  },
  {
   "cell_type": "markdown",
   "metadata": {},
   "source": [
    "Student ID: 20041829"
   ]
  },
  {
   "cell_type": "markdown",
   "metadata": {},
   "source": [
    "# Task 1: Probability Theory\n",
    "\n",
    "## Example 1: Random Numbered balls in a bag\n",
    "\n",
    "8 numbered balls from (1 to 8) are put in a hat and the hat is shook, you have to reach into the bag and grab 1 ball randomly (without looking into the bag). \n",
    "If you grab the ball numbered '1' you get 0 lolipops\n",
    "If you grab the ball numbered '2' you get 2 lolipop\n",
    "If you grab the ball numbered '3' you get 4 lolipops\n",
    "If you grab the ball numbered '4' you get 6 lolipops\n",
    "If you grab the ball numbered '5,6,7,8' you get 8 lolipops\n",
    "\n",
    "After 1000 simulations, calculate the expected value of your random variable and the standard diviation\n",
    "\n",
    "## Example 2: Livestock weight bridge\n",
    "\n",
    "A group of livestock is walked past a weighbridge individually to measure their mass in kilograms. This is a normal distribution since the mass could be any value. The cows will be given scores according to their mass\n",
    "We expect 99.7% of data within mean +- 3( std . dev)\n",
    "The mass ranges from 360kg - 1800kg the mean is 1080kg and the standard deviation is 240\n",
    "if cow mass < 360kg, score is 3\n",
    "if cow mass between 360kg and 600kg, score is 6\n",
    "if cow mass between 600kg and 840kg, score is 9\n",
    "if cow mass between 840kg and 1080kg, score is 12\n",
    "if cow mass between 1080kg and 1320kg, score is 15\n",
    "if cow mass between 1320kg and 1560kg, score is 18\n",
    "if cow mass between 1560kg and 1800kg, score is 21\n",
    "\n",
    "Calculate the number of cows in each score\n",
    "\n",
    "Going to run for 10,000 simulations\n",
    "\n",
    "\n",
    "\n"
   ]
  },
  {
   "cell_type": "markdown",
   "metadata": {},
   "source": [
    "## Approach\n",
    "\n",
    "Define the problem parameters, such as the rules for rewards or scoring, the number of simulations, and any probability distributions involved.\n",
    "Set up a loop to replicate the scenario numerous times using a random number generator to depict randomness.\n",
    "Perform the following steps during each simulation iteration:\n",
    "Create random data based on the provided probability distribution (e.g., uniform distribution, normal distribution).\n",
    "To determine the outcome of that iteration, apply the rules for rewards or scoring.\n",
    "Keep note of the results (e.g., counts, awards) for further analysis.\n",
    "After finishing all simulations, compute summary statistics such as the expected value and standard deviation.\n",
    "\n",
    "\n",
    "\n",
    "* Example 1: Random Numbered Balls in a Bag\n",
    "\n",
    "Imagine you have 8 numbered balls from 1 to 8 in a bag. You reach into the bag and grab one ball randomly (without looking into the bag). The rewards for different ball numbers are as follows:\n",
    "- If you grab the ball numbered '1', you get 0 lollipops.\n",
    "- If you grab the ball numbered '2', you get 2 lollipops.\n",
    "- If you grab the ball numbered '3', you get 4 lollipops.\n",
    "- If you grab the ball numbered '4', you get 6 lollipops.\n",
    "- If you grab any ball numbered '5', '6', '7', or '8', you get 8 lollipops.\n",
    "\n",
    "Then run simulating this scenario 1,000 times, you can calculate the expected value of the random variable (lollipops) and the standard deviation.\n",
    "\n",
    "* Example 2: Livestock Weight Bridge\n",
    "\n",
    "A group of livestock is individually walked past a weighbridge to measure their mass in kilograms. The mass follows a normal distribution with a mean of 1,080 kg and a standard deviation of 240 kg. Cows are assigned scores based on their mass as follows:\n",
    "- If cow mass is less than 360 kg, the score is 3.\n",
    "- If cow mass is between 360 kg and 600 kg, the score is 6.\n",
    "- If cow mass is between 600 kg and 840 kg, the score is 9.\n",
    "- If cow mass is between 840 kg and 1,080 kg, the score is 12.\n",
    "- If cow mass is between 1,080 kg and 1,320 kg, the score is 15.\n",
    "- If cow mass is between 1,320 kg and 1,560 kg, the score is 18.\n",
    "- If cow mass is between 1,560 kg and 1,800 kg, the score is 21.\n",
    "\n",
    "Then simulation 10,000 times to determine the number of cows in each score category.\n",
    "\n"
   ]
  },
  {
   "cell_type": "markdown",
   "metadata": {},
   "source": [
    "## Manual Calculations\n",
    "\n",
    "Expected number to be picked = Sum of all measured variables/number of simulations\n",
    "using numpy = np.mean(variable)"
   ]
  },
  {
   "cell_type": "code",
   "execution_count": 9,
   "metadata": {},
   "outputs": [
    {
     "data": {
      "image/png": "[encoded data removed]",
      "text/plain": [
       "<Figure size 640x480 with 1 Axes>"
      ]
     },
     "metadata": {},
     "output_type": "display_data"
    },
    {
     "name": "stdout",
     "output_type": "stream",
     "text": [
      "Values are [4, 1, 5, 4, 5, 8, 2, 3, 6, 2, 1, 5, 5, 5, 3, 7, 3, 2, 8, 6, 7, 8, 3, 2, 6, 3, 5, 6, 3, 3, 8, 4, 4, 4, 6, 4, 1, 5, 8, 2, 4, 7, 8, 8, 8, 5, 7, 6, 4, 8, 7, 4, 7, 2, 8, 8, 5, 3, 2, 8, 5, 2, 8, 8, 6, 1, 2, 7, 1, 3, 3, 3, 2, 7, 4, 8, 8, 1, 3, 3, 3, 8, 1, 7, 7, 8, 6, 4, 3, 6, 6, 5, 8, 6, 3, 2, 7, 5, 3, 5, 4, 4, 1, 8, 6, 1, 4, 6, 6, 4, 7, 5, 2, 1, 8, 6, 1, 7, 3, 2, 6, 1, 8, 3, 5, 2, 4, 3, 6, 8, 8, 8, 2, 4, 7, 4, 2, 5, 6, 5, 7, 1, 8, 8, 2, 7, 5, 6, 8, 7, 5, 5, 1, 1, 6, 8, 5, 7, 5, 1, 4, 3, 6, 1, 3, 2, 6, 8, 2, 4, 8, 1, 1, 4, 1, 7, 2, 3, 8, 8, 8, 8, 8, 4, 1, 1, 8, 7, 7, 1, 1, 7, 6, 2, 8, 7, 2, 1, 7, 1, 4, 6, 3, 3, 2, 8, 5, 4, 1, 1, 8, 6, 3, 3, 2, 2, 5, 4, 1, 4, 3, 8, 1, 1, 6, 8, 1, 8, 4, 2, 1, 6, 8, 3, 3, 5, 5, 5, 4, 6, 5, 6, 3, 8, 1, 2, 3, 8, 4, 5, 2, 6, 7, 4, 3, 5, 7, 5, 2, 7, 3, 3, 7, 8, 1, 6, 7, 5, 8, 1, 8, 4, 5, 1, 1, 1, 2, 1, 6, 1, 2, 8, 6, 1, 3, 3, 3, 2, 2, 4, 5, 7, 1, 8, 4, 6, 5, 3, 2, 4, 5, 4, 1, 2, 1, 4, 2, 2, 5, 2, 2, 4, 6, 2, 3, 3, 8, 5, 4, 1, 5, 8, 3, 6, 1, 2, 1, 6, 8, 5, 7, 2, 3, 3, 8, 4, 6, 3, 6, 6, 8, 4, 7, 2, 3, 4, 1, 4, 4, 6, 7, 6, 2, 6, 8, 6, 6, 8, 2, 7, 3, 3, 5, 8, 5, 1, 7, 6, 4, 2, 8, 6, 3, 3, 6, 7, 6, 2, 1, 4, 7, 6, 5, 3, 4, 6, 1, 4, 6, 2, 2, 2, 3, 6, 3, 1, 4, 5, 4, 2, 1, 3, 6, 6, 3, 6, 6, 7, 6, 8, 8, 2, 4, 4, 4, 2, 6, 5, 8, 2, 8, 4, 3, 2, 7, 1, 8, 5, 5, 4, 7, 1, 3, 6, 4, 3, 1, 4, 3, 6, 7, 6, 6, 8, 5, 3, 2, 2, 3, 4, 1, 2, 8, 7, 2, 1, 8, 4, 7, 7, 2, 4, 1, 4, 5, 5, 8, 7, 7, 7, 4, 6, 3, 3, 8, 7, 1, 5, 2, 3, 5, 2, 6, 6, 6, 5, 4, 1, 3, 5, 1, 5, 8, 7, 2, 4, 3, 3, 2, 3, 1, 6, 6, 2, 8, 3, 2, 1, 4, 3, 8, 8, 2, 6, 7, 5, 6, 7, 5, 5, 4, 4, 1, 2, 7, 1, 5, 4, 3, 4, 7, 5, 4, 4, 1, 7, 8, 2, 8, 4, 8, 6, 1, 7, 7, 3, 3, 2, 1, 1, 1, 1, 7, 3, 3, 3, 3, 7, 3, 6, 8, 2, 1, 7, 5, 2, 6, 6, 4, 4, 1, 7, 5, 6, 7, 3, 4, 7, 2, 8, 5, 2, 1, 4, 5, 5, 4, 2, 6, 4, 6, 8, 2, 8, 7, 3, 5, 7, 5, 1, 7, 1, 8, 7, 6, 7, 3, 8, 3, 8, 4, 8, 1, 2, 1, 6, 1, 6, 7, 3, 6, 5, 2, 1, 4, 1, 1, 3, 4, 6, 3, 8, 6, 8, 5, 8, 3, 7, 2, 5, 5, 5, 1, 8, 5, 5, 2, 4, 4, 8, 7, 4, 8, 8, 7, 6, 6, 6, 8, 2, 5, 1, 8, 1, 2, 4, 7, 4, 8, 2, 8, 6, 4, 5, 4, 4, 8, 2, 4, 4, 8, 5, 8, 8, 3, 3, 4, 4, 3, 4, 6, 4, 3, 5, 3, 1, 6, 6, 8, 8, 3, 3, 8, 6, 4, 5, 8, 1, 5, 5, 3, 5, 8, 4, 2, 5, 2, 4, 1, 6, 1, 2, 5, 7, 2, 7, 1, 3, 4, 7, 6, 7, 1, 4, 7, 3, 3, 2, 7, 8, 7, 3, 3, 6, 2, 1, 7, 8, 8, 7, 8, 2, 7, 5, 1, 8, 7, 1, 2, 6, 6, 4, 2, 4, 5, 5, 3, 7, 8, 4, 2, 6, 3, 7, 6, 8, 7, 4, 5, 1, 6, 3, 5, 6, 6, 5, 5, 3, 6, 2, 5, 6, 5, 1, 3, 8, 3, 3, 4, 1, 6, 1, 2, 4, 7, 2, 3, 2, 3, 8, 8, 8, 3, 7, 4, 4, 8, 7, 4, 3, 1, 6, 5, 2, 1, 6, 8, 3, 6, 7, 3, 4, 7, 6, 7, 3, 2, 8, 1, 4, 1, 1, 8, 7, 3, 1, 3, 5, 2, 2, 8, 6, 6, 2, 1, 3, 8, 1, 3, 7, 4, 5, 4, 5, 6, 6, 7, 7, 8, 2, 1, 2, 5, 2, 6, 6, 5, 4, 3, 2, 1, 7, 7, 4, 3, 6, 8, 7, 6, 4, 5, 7, 8, 4, 7, 2, 5, 1, 2, 2, 2, 4, 4, 1, 6, 5, 3, 5, 7, 5, 1, 7, 5, 4, 1, 4, 4, 1, 6, 7, 7, 8, 8, 8, 8, 4, 7, 8, 1, 7, 5, 3, 7, 4, 2, 8, 7, 7, 5, 4, 8, 2, 8, 2, 7, 3, 6, 2, 5, 6, 3, 7, 1, 7, 4, 2, 5, 4, 2, 4, 2, 7, 2, 1, 8, 2, 3, 1, 2, 6, 6, 3, 6, 4, 6, 7, 1, 3, 1, 5, 1, 6, 1, 3, 8, 1, 1, 6, 6, 7, 8, 4, 3, 3, 6, 4, 7, 1, 2]\n",
      "Expected number picked is: 4.5125125125125125\n",
      "Standard Diviation is: 2.312778099197959\n"
     ]
    }
   ],
   "source": [
    "#Example 1: Random Numbered balls in a bag\n",
    "import random as rnd\n",
    "import matplotlib.pyplot as plt\n",
    "import numpy as np\n",
    "\n",
    "#import matplotlib.pyplot as plt\n",
    "\n",
    "ball_picked = []\n",
    "\n",
    "for i in range(1,1000):\n",
    "    ball = (rnd.randint(1,8))\n",
    "    ball_picked.append(ball)\n",
    "    if ball == 1:\n",
    "      lolipop = 0\n",
    "    elif ball == 2:\n",
    "      lolipop = 2\n",
    "    elif ball == 3:\n",
    "      lolipop = 4\n",
    "    elif ball == 4:\n",
    "      lolipop = 6\n",
    "    elif ball in (5, 6, 7, 8):\n",
    "      lolipop = 8\n",
    "\n",
    "\n",
    "expected_ball_num = np.mean(ball_picked)\n",
    "std_dev_ball = np.sqrt(np.var(ball_picked))\n",
    "plt.hist(ball_picked, bins=50)\n",
    "plt.show()\n",
    "\n",
    "print('Values are', ball_picked)\n",
    "print('Expected number picked is:', expected_ball_num)\n",
    "print('Standard Diviation is:', std_dev_ball)\n",
    "\n",
    "\n",
    "\n",
    "  \n"
   ]
  },
  {
   "cell_type": "code",
   "execution_count": 5,
   "metadata": {},
   "outputs": [
    {
     "data": {
      "image/png": "[encoded data removed]",
      "text/plain": [
       "<Figure size 640x480 with 1 Axes>"
      ]
     },
     "metadata": {},
     "output_type": "display_data"
    },
    {
     "name": "stdout",
     "output_type": "stream",
     "text": [
      "Number of cows with score 3 is: 7\n",
      "Number of cows with score 6 is: 219\n",
      "Number of cows with score 9 is: 1393\n",
      "Number of cows with score 12 is: 3429\n",
      "Number of cows with score 15 is: 3403\n",
      "Number of cows with score 18 is: 1335\n",
      "Number of cows with score 21 is: 214\n",
      "Expected cow mass: 1077.3192719179992\n"
     ]
    }
   ],
   "source": [
    "#Example 2: Livestock weight bridge\n",
    "import random as rnd\n",
    "\n",
    "score_count3 = 0\n",
    "score_count6 = 0\n",
    "score_count9 = 0\n",
    "score_count12 = 0\n",
    "score_count15 = 0\n",
    "score_count18 = 0\n",
    "score_count21 = 0\n",
    "cow_numbers = []\n",
    "\n",
    "for _ in range(0, 10000):\n",
    "    # Generate a random cow mass from a normal distribution\n",
    "    cow_mass = rnd.normalvariate(1080, 240)\n",
    "    cow_numbers.append(cow_mass)\n",
    "\n",
    "    # Determine the score based on cow mass\n",
    "    if cow_mass < 360:\n",
    "        score_count3 += 1\n",
    "    elif 360 <= cow_mass < 600:\n",
    "        score_count6 += 1\n",
    "    elif 600 <= cow_mass < 840:\n",
    "        score_count9 += 1\n",
    "    elif 840 <= cow_mass < 1080:\n",
    "        score_count12 += 1\n",
    "    elif 1080 <= cow_mass < 1320:\n",
    "        score_count15 += 1\n",
    "    elif 1320 <= cow_mass < 1560:\n",
    "        score_count18 += 1\n",
    "    else:\n",
    "        score_count21 += 1\n",
    "\n",
    "expected_cow_mass = np.mean(cow_numbers)\n",
    "\n",
    "plt.hist(cow_numbers, bins=50)\n",
    "plt.show()\n",
    "print('Number of cows with score 3 is:', score_count3)\n",
    "print('Number of cows with score 6 is:', score_count6)\n",
    "print('Number of cows with score 9 is:', score_count9)\n",
    "print('Number of cows with score 12 is:', score_count12)\n",
    "print('Number of cows with score 15 is:', score_count15)\n",
    "print('Number of cows with score 18 is:', score_count18)\n",
    "print('Number of cows with score 21 is:', score_count21)\n",
    "print('Expected cow mass:', expected_cow_mass)\n",
    "\n"
   ]
  },
  {
   "cell_type": "markdown",
   "metadata": {},
   "source": [
    "   "
   ]
  },
  {
   "cell_type": "markdown",
   "metadata": {},
   "source": [
    "# Task 2: Naive Bayes Classifier\n",
    "\n",
    "Data obtained from https://github.com/johnmyleswhite/ML_for_Hackers\n"
   ]
  },
  {
   "cell_type": "code",
   "execution_count": 2,
   "metadata": {},
   "outputs": [],
   "source": [
    "# import dependencies\n",
    "import numpy as np\n",
    "import pandas as pd"
   ]
  },
  {
   "cell_type": "code",
   "execution_count": 3,
   "metadata": {},
   "outputs": [],
   "source": [
    "# Read the data from the .csv, using the first row as the headers of the data\n",
    "data = pd.read_csv('01_heights_weights_genders.csv',header=0)"
   ]
  },
  {
   "cell_type": "code",
   "execution_count": 4,
   "metadata": {},
   "outputs": [
    {
     "name": "stdout",
     "output_type": "stream",
     "text": [
      "      Gender     Height      Weight\n",
      "0       Male  73.847017  241.893563\n",
      "1       Male  68.781904  162.310473\n",
      "2       Male  74.110105  212.740856\n",
      "3       Male  71.730978  220.042470\n",
      "4       Male  69.881796  206.349801\n",
      "...      ...        ...         ...\n",
      "9995  Female  66.172652  136.777454\n",
      "9996  Female  67.067155  170.867906\n",
      "9997  Female  63.867992  128.475319\n",
      "9998  Female  69.034243  163.852461\n",
      "9999  Female  61.944246  113.649103\n",
      "\n",
      "[10000 rows x 3 columns]\n"
     ]
    }
   ],
   "source": [
    "# Show just the first few samples so we know it's read correctly\n",
    "data.head(n=3)\n",
    "print(data)"
   ]
  },
  {
   "cell_type": "markdown",
   "metadata": {},
   "source": [
    "### Visualise\n"
   ]
  },
  {
   "cell_type": "code",
   "execution_count": 1,
   "metadata": {},
   "outputs": [
    {
     "data": {
      "text/plain": [
       "<Axes: xlabel='Height', ylabel='Weight'>"
      ]
     },
     "execution_count": 5,
     "metadata": {},
     "output_type": "execute_result"
    },
    {
     "data": {
      "image/png": "[encoded data removed]",
      "text/plain": [
       "<Figure size 640x480 with 1 Axes>"
      ]
     },
     "metadata": {},
     "output_type": "display_data"
    }
   ],
   "source": [
    "################################\n",
    "# Your code here\n",
    "colors ={\"Male\" : \"red\", \"Female\" : \"green\"}\n",
    "\n",
    "data.plot(kind='scatter',x=\"Height\",y=\"Weight\",c=data.Gender.map(colors))"
   ]
  },
  {
   "cell_type": "markdown",
   "metadata": {},
   "source": [
    "###### Discuss: Do you think there is resonable separation?"
   ]
  },
  {
   "cell_type": "markdown",
   "metadata": {},
   "source": [
    "### Features and labels\n",
    "The aim is to predict the gender of the person based on characteristics such as height, weight. So we call what we want to predict the \"label\" and the characteristics the \"features\". This will be covered more later in the module, but is a good enough understanding for now."
   ]
  },
  {
   "cell_type": "code",
   "execution_count": 8,
   "metadata": {},
   "outputs": [
    {
     "name": "stdout",
     "output_type": "stream",
     "text": [
      "         Height      Weight\n",
      "0     73.847017  241.893563\n",
      "1     68.781904  162.310473\n",
      "2     74.110105  212.740856\n",
      "3     71.730978  220.042470\n",
      "4     69.881796  206.349801\n",
      "...         ...         ...\n",
      "9995  66.172652  136.777454\n",
      "9996  67.067155  170.867906\n",
      "9997  63.867992  128.475319\n",
      "9998  69.034243  163.852461\n",
      "9999  61.944246  113.649103\n",
      "\n",
      "[10000 rows x 2 columns]\n",
      "0         Male\n",
      "1         Male\n",
      "2         Male\n",
      "3         Male\n",
      "4         Male\n",
      "         ...  \n",
      "9995    Female\n",
      "9996    Female\n",
      "9997    Female\n",
      "9998    Female\n",
      "9999    Female\n",
      "Name: Sex, Length: 10000, dtype: object\n"
     ]
    }
   ],
   "source": [
    "X = data.iloc[:,1:3] # X is the features in our dataset\n",
    "y = data.iloc[:,0]  # y is the Labels in our dataset\n",
    "\n",
    "print(X)\n",
    "print(y)\n"
   ]
  },
  {
   "cell_type": "markdown",
   "metadata": {},
   "source": [
    "### Train/Test Split\n",
    "\n",
    "We have a bunch of data from the csv file. What we need to do is decide what of that data we will use to train the algorithm, and what of that data will be used to see how good the result is. More on this later in the module, but you can't use the same data you train with to test the outcome, as it will naturally fit that very well, but you won't catch things like overfitting. \n",
    "\n",
    "There is some science to this, but for now we will randomly select one third for testing, and the rest for training."
   ]
  },
  {
   "cell_type": "code",
   "execution_count": 9,
   "metadata": {},
   "outputs": [
    {
     "name": "stdout",
     "output_type": "stream",
     "text": [
      "         Height      Weight\n",
      "1226  65.831654  165.592195\n",
      "6891  63.338460  126.381660\n",
      "9593  59.309205  103.900924\n",
      "6422  65.928869  125.515855\n",
      "6077  61.781452  119.956199\n",
      "...         ...         ...\n",
      "9023  58.906378   94.976945\n",
      "6274  63.364536  135.900352\n",
      "364   67.662399  170.305494\n",
      "5231  65.665650  131.339756\n",
      "6778  65.176947  145.339906\n",
      "\n",
      "[6700 rows x 2 columns]\n",
      "\n",
      "         Height      Weight\n",
      "3256  68.784717  192.407835\n",
      "8098  62.069851  112.455878\n",
      "1726  71.030617  217.490958\n",
      "8432  63.577849  120.684129\n",
      "3774  74.991753  227.010084\n",
      "...         ...         ...\n",
      "6838  65.997942  141.890779\n",
      "1901  67.760095  172.216451\n",
      "5281  61.659922  104.342470\n",
      "1443  69.633970  200.342814\n",
      "5006  62.850379  114.969038\n",
      "\n",
      "[3300 rows x 2 columns]\n",
      "\n",
      "1226      Male\n",
      "6891    Female\n",
      "9593    Female\n",
      "6422    Female\n",
      "6077    Female\n",
      "         ...  \n",
      "9023    Female\n",
      "6274    Female\n",
      "364       Male\n",
      "5231    Female\n",
      "6778    Female\n",
      "Name: Sex, Length: 6700, dtype: object\n",
      "3256      Male\n",
      "8098    Female\n",
      "1726      Male\n",
      "8432    Female\n",
      "3774      Male\n",
      "         ...  \n",
      "6838    Female\n",
      "1901      Male\n",
      "5281    Female\n",
      "1443      Male\n",
      "5006    Female\n",
      "Name: Sex, Length: 3300, dtype: object\n"
     ]
    }
   ],
   "source": [
    "################################\n",
    "# Your code here\n",
    "from sklearn.model_selection import train_test_split\n",
    "(X_train, X_test, y_train, y_test) = train_test_split(X, y, test_size=0.33)\n",
    "\n",
    "print(X_train)   ## X is my features\n",
    "print()\n",
    "print(X_test)\n",
    "print()\n",
    "print(y_train)   ## Y are my predictors\n",
    "print(y_test)\n"
   ]
  },
  {
   "cell_type": "markdown",
   "metadata": {},
   "source": [
    "### Train the algorithm\n",
    "We won't go into the details here, but we will use a Gaussian Naive Bayesian. Use GaussianNB from sklearn to train the model. The Gaussian is needed as we're dealing with sparse, continuous data"
   ]
  },
  {
   "cell_type": "code",
   "execution_count": 10,
   "metadata": {},
   "outputs": [],
   "source": [
    "from sklearn.naive_bayes import GaussianNB\n",
    "\n",
    "################################\n",
    "sex_model = GaussianNB().fit(X_train, y_train)"
   ]
  },
  {
   "cell_type": "markdown",
   "metadata": {},
   "source": [
    "### Test the algorithm\n",
    "Using the test data"
   ]
  },
  {
   "cell_type": "code",
   "execution_count": 11,
   "metadata": {},
   "outputs": [
    {
     "ename": "NameError",
     "evalue": "name 'sex_model' is not defined",
     "output_type": "error",
     "traceback": [
      "\u001b[1;31m---------------------------------------------------------------------------\u001b[0m",
      "\u001b[1;31mNameError\u001b[0m                                 Traceback (most recent call last)",
      "Cell \u001b[1;32mIn[7], line 2\u001b[0m\n\u001b[0;32m      1\u001b[0m \u001b[38;5;66;03m################################\u001b[39;00m\n\u001b[1;32m----> 2\u001b[0m y_pred \u001b[38;5;241m=\u001b[39m \u001b[43msex_model\u001b[49m\u001b[38;5;241m.\u001b[39mpredict(X_test) \u001b[38;5;66;03m#now predicting our model to our test dataset\u001b[39;00m\n\u001b[0;32m      4\u001b[0m \u001b[38;5;28mprint\u001b[39m(X_test\u001b[38;5;241m.\u001b[39mvalues)\n\u001b[0;32m      5\u001b[0m \u001b[38;5;28mprint\u001b[39m()\n",
      "\u001b[1;31mNameError\u001b[0m: name 'sex_model' is not defined"
     ]
    }
   ],
   "source": [
    "################################\n",
    "y_pred = sex_model.predict(X_test) #now predicting our model to our test dataset\n",
    "\n",
    "print(X_test.values)\n",
    "print()\n",
    "print(y_pred)\n",
    "print(y_test.values)"
   ]
  },
  {
   "cell_type": "code",
   "execution_count": 12,
   "metadata": {},
   "outputs": [
    {
     "name": "stdout",
     "output_type": "stream",
     "text": [
      "0.8848484848484849\n"
     ]
    }
   ],
   "source": [
    "from sklearn.metrics import accuracy_score\n",
    "\n",
    "################################\n",
    "accuracy_score = accuracy_score(y_test, y_pred) \n",
    "print (accuracy_score)"
   ]
  },
  {
   "cell_type": "markdown",
   "metadata": {},
   "source": [
    "### Plot the random samples"
   ]
  },
  {
   "cell_type": "code",
   "execution_count": 42,
   "metadata": {},
   "outputs": [
    {
     "ename": "NameError",
     "evalue": "name 'sex_model' is not defined",
     "output_type": "error",
     "traceback": [
      "\u001b[1;31m---------------------------------------------------------------------------\u001b[0m",
      "\u001b[1;31mNameError\u001b[0m                                 Traceback (most recent call last)",
      "Cell \u001b[1;32mIn[6], line 21\u001b[0m\n\u001b[0;32m     17\u001b[0m x_samples \u001b[38;5;241m=\u001b[39m np\u001b[38;5;241m.\u001b[39mcolumn_stack((heights, weights))\n\u001b[0;32m     19\u001b[0m \u001b[38;5;66;03m# Assuming 'sex_model' is defined and trained elsewhere in your code\u001b[39;00m\n\u001b[0;32m     20\u001b[0m \u001b[38;5;66;03m# Predict using the model\u001b[39;00m\n\u001b[1;32m---> 21\u001b[0m y_samples_pred \u001b[38;5;241m=\u001b[39m \u001b[43msex_model\u001b[49m\u001b[38;5;241m.\u001b[39mpredict(x_samples)\n\u001b[0;32m     23\u001b[0m \u001b[38;5;66;03m# Separate Male and Female predictions for plotting\u001b[39;00m\n\u001b[0;32m     24\u001b[0m male_indices \u001b[38;5;241m=\u001b[39m np\u001b[38;5;241m.\u001b[39mwhere(y_samples_pred \u001b[38;5;241m==\u001b[39m \u001b[38;5;124m'\u001b[39m\u001b[38;5;124mMale\u001b[39m\u001b[38;5;124m'\u001b[39m)\n",
      "\u001b[1;31mNameError\u001b[0m: name 'sex_model' is not defined"
     ]
    }
   ],
   "source": [
    "################################\n",
    "# Your code here\n",
    "\n",
    "import numpy as np\n",
    "import matplotlib.pyplot as plt\n",
    "\n",
    "# Assume 'sex_model' is your trained model that predicts 'Male' or 'Female'\n",
    "# weight_range and height_range are defined\n",
    "weight_range = (160, 215) \n",
    "height_range = (60, 75)\n",
    "\n",
    "# Get random weights and heights in uniform distribution\n",
    "weights = np.random.uniform(weight_range[0], weight_range[1], 5000)\n",
    "heights = np.random.uniform(height_range[0], height_range[1], 5000)\n",
    "\n",
    "# Combine the heights and weights into a 2D array\n",
    "x_samples = np.column_stack((heights, weights))\n",
    "\n",
    "# Assuming 'sex_model' is defined and trained elsewhere in your code\n",
    "# Predict using the model\n",
    "y_samples_pred = sex_model.predict(x_samples)\n",
    "\n",
    "# Separate Male and Female predictions for plotting\n",
    "male_indices = np.where(y_samples_pred == 'Male')\n",
    "female_indices = np.where(y_samples_pred == 'Female')\n",
    "\n",
    "# Plot Male samples in one color\n",
    "plt.scatter(heights[male_indices], weights[male_indices], color='blue', label='Male', alpha=0.5)\n",
    "\n",
    "# Plot Female samples in another color\n",
    "plt.scatter(heights[female_indices], weights[female_indices], color='red', label='Female', alpha=0.5)\n",
    "\n",
    "# Add labels and title to the plot\n",
    "plt.title('Scatter Plot of Heights and Weights by Predicted Gender')\n",
    "plt.xlabel('Height (inches)')\n",
    "plt.ylabel('Weight (lbs)')\n",
    "plt.legend()\n",
    "\n",
    "# Show the plot\n",
    "plt.show()\n",
    "\n",
    "\n",
    "\n",
    "\n",
    "\n",
    "    "
   ]
  },
  {
   "cell_type": "markdown",
   "metadata": {},
   "source": []
  },
  {
   "cell_type": "markdown",
   "metadata": {},
   "source": [
    "# Task 3 : Applications of Reinforcement Learning\n",
    "Sources: https://uk.mathworks.com/content/dam/mathworks/ebook/gated/reinforcement-learning-ebook-all-chapters.pdf\n",
    "         https://www.techtarget.com/searchenterpriseai/definition/reinforcement-learning\n",
    "         https://www.geeksforgeeks.org/supervised-unsupervised-learning/\n",
    "\n",
    "A machine learning training technique called reinforcement learning bases its rewards on desired behaviours and sanctions on undesirable ones. A reinforcement learning agent, or the entity being trained, can typically sense and interpret its surroundings, take actions, and learn via mistakes. Learning through reinforcement learning is a completely different ball game. RL uses data from a dynamic environment, as opposed to the other two learning frameworks, which operate on a static dataset. Finding the best course of action to produce the best result is the objective, not clustering or labelling data. Allowing an agent, a piece of software, to explore, interact with, and learn from the environment is how reinforcement learning resolves this issue.\n",
    "\n",
    "I could apply reinforcement learning on a robotic tilting round table balancing a ball on top. Using reinforment learning, the environment is the table top and the goal is to not drop the ball to the floor. The tilting table can actions like tilt to any direction within a 45 degree angle. For tilting the table, actions might be applying a force or torque to change the table's angle. Each time the ball falls the tilting angle of that side is adjusted or reduced. Each time the ball does not fall that angle is mantained as the machine is rewarded. So basically, in this scenario, you may offer a positive reward for keeping the ball towards the centre of the table and a deterrent for letting it roll off. I'll utilise the gathered data to train the reinforcement learning agent. In order to maximise the cumulative reward over time, the agent should learn a policy. This may also involve using different weighted balls. \n",
    "\n",
    "Why are supervised and unsupervised approaches not suitable or less suitable? When a model is trained using supervised learning, it is applied to a labelled dataset, which contains input-output pairs. The objective of supervised learning is to develop a mapping from input data to the associated output data hence the expected output. For the case of the table, it is close to impossible to obtain a dataset large enough to adjust each angle of the the round table. It would be challenging to gather a large and diverse labelled dataset since figuring out the best course of action to balance the ball in different circumstances would necessitate manual control and expert knowledge. A tilting table and balancing ball physical system is highly dynamic and continuous. In general, supervised learning models are better suited to static or discrete data. With a fixed set of labelled samples, it is impossible to convey the environment's ongoing and developing nature.taset.\n",
    "\n",
    "Unsupervised learning is the training of a computer utilising unlabeled information and allowing the algorithm to operate on that information without supervision. As a result, the machine is limited to discovering the hidden structure in unlabeled data on its own.Unsupervised learning lacks this technique for modifying the system's behaviour. It's difficult to educate the system to balance the ball without a clear reward signal.Hence, using unsupervised learning, it is not possible to assign that much information for the algorithm to act on as well.\n",
    "\n",
    "\n",
    "\n",
    "\n",
    "\n"
   ]
  }
 ],
 "metadata": {
  "kernelspec": {
   "display_name": "Python 3 (ipykernel)",
   "language": "python",
   "name": "python3"
  },
  "language_info": {
   "codemirror_mode": {
    "name": "ipython",
    "version": 3
   },
   "file_extension": ".py",
   "mimetype": "text/x-python",
   "name": "python",
   "nbconvert_exporter": "python",
   "pygments_lexer": "ipython3",
   "version": "3.11.5"
  }
 },
 "nbformat": 4,
 "nbformat_minor": 4
}
